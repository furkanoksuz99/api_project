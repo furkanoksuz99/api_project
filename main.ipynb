{
 "cells": [
  {
   "cell_type": "code",
   "execution_count": 2,
   "id": "d0a76d59-c102-446e-8ac8-30c0b0b5701a",
   "metadata": {},
   "outputs": [
    {
     "name": "stdout",
     "output_type": "stream",
     "text": [
      "Haber toplama başlatılıyor...\n",
      "haberturk kaynağından haberler çekiliyor...\n",
      "✓ haberturk - 100 haber bulundu\n"
     ]
    },
    {
     "name": "stderr",
     "output_type": "stream",
     "text": [
      "\n",
      "KeyboardInterrupt\n",
      "\n"
     ]
    }
   ],
   "source": [
    "import import_ipynb\n",
    "import news_get\n",
    "import event_get\n",
    "\n",
    "news_get.main()\n",
    "event_get.main()\n"
   ]
  },
  {
   "cell_type": "code",
   "execution_count": null,
   "id": "7aa41fbb-93de-402d-90fe-a40ddc071eab",
   "metadata": {},
   "outputs": [],
   "source": []
  }
 ],
 "metadata": {
  "kernelspec": {
   "display_name": "Python 3 (ipykernel)",
   "language": "python",
   "name": "python3"
  },
  "language_info": {
   "codemirror_mode": {
    "name": "ipython",
    "version": 3
   },
   "file_extension": ".py",
   "mimetype": "text/x-python",
   "name": "python",
   "nbconvert_exporter": "python",
   "pygments_lexer": "ipython3",
   "version": "3.11.9"
  }
 },
 "nbformat": 4,
 "nbformat_minor": 5
}
